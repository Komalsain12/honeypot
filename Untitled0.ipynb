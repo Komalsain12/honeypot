{
  "nbformat": 4,
  "nbformat_minor": 0,
  "metadata": {
    "colab": {
      "provenance": [],
      "toc_visible": true,
      "authorship_tag": "ABX9TyNdzFCmqRW0EnW2i5JNk2Tq",
      "include_colab_link": true
    },
    "kernelspec": {
      "name": "python3",
      "display_name": "Python 3"
    },
    "language_info": {
      "name": "python"
    }
  },
  "cells": [
    {
      "cell_type": "markdown",
      "metadata": {
        "id": "view-in-github",
        "colab_type": "text"
      },
      "source": [
        "<a href=\"https://colab.research.google.com/github/Komalsain12/honeypot/blob/main/Untitled0.ipynb\" target=\"_parent\"><img src=\"https://colab.research.google.com/assets/colab-badge.svg\" alt=\"Open In Colab\"/></a>"
      ]
    },
    {
      "cell_type": "code",
      "execution_count": 8,
      "metadata": {
        "colab": {
          "base_uri": "https://localhost:8080/",
          "height": 141
        },
        "id": "_i8lkrIJCLVl",
        "outputId": "f27d34a8-2b1d-4925-ead6-faf8c5400627"
      },
      "outputs": [
        {
          "output_type": "error",
          "ename": "SyntaxError",
          "evalue": "ignored",
          "traceback": [
            "\u001b[0;36m  File \u001b[0;32m\"<ipython-input-8-6c5d5e60b63c>\"\u001b[0;36m, line \u001b[0;32m14\u001b[0m\n\u001b[0;31m    1. Clone the repository:\u001b[0m\n\u001b[0m       ^\u001b[0m\n\u001b[0;31mSyntaxError\u001b[0m\u001b[0;31m:\u001b[0m invalid syntax\n"
          ]
        }
      ],
      "source": [
        "from IPython.display import HTML\n",
        "\n",
        "# Display GitHub Actions Badge\n",
        "badge_code = '''\n",
        "[![Build Status](https://github.com/komalsain12/honeypot/workflows/CI/badge.svg)](https://github.com/komalsain12/honeypot/actions)\n",
        "'''\n",
        "\n",
        "HTML(badge_code)\n",
        "\n",
        "# Brief project description goes here.\n",
        "\n",
        "# Project Setup\n",
        "\n",
        "1. Clone the repository:\n",
        "    ```bash\n",
        "    git clone https://github.com/komalsain12/honeypot.git\n",
        "    ```\n",
        "\n",
        "2. Create a new branch:\n",
        "    ```bash\n",
        "    git checkout -b feature/my-feature\n",
        "    ```\n",
        "\n",
        "3. Make your changes:\n",
        "    ```bash\n",
        "    git add .\n",
        "    git commit -m \"Add feature X to Honeyd configuration\"\n",
        "    ```\n",
        "\n",
        "4. Push your changes to the repository:\n",
        "    ```bash\n",
        "    git push origin feature/my-feature\n",
        "    ```\n",
        "# Honeyd Configuration (honeyd.conf)\n",
        "\n",
        "# Default settings\n",
        "create default\n",
        "set default personality \"Cisco 7206VXR\"\n",
        "set default default tcp action reset\n",
        "set default default udp action reset\n",
        "\n",
        "# Emulate an HTTP server\n",
        "listen 192.168.1.2 http\n",
        "git clone https://github.com/your-username/honeyd-honeypot.git\n",
        "git checkout -b feature/my-feature\n",
        "git add .\n",
        "git commit -m \"Add feature X to Honeyd configuration\"\n",
        "git push origin feature/my-feature\n"
      ]
    }
  ]
}